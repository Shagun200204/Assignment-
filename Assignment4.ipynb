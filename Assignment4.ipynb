{
 "cells": [
  {
   "cell_type": "code",
   "execution_count": 1,
   "id": "66f213dd-7e35-416f-b531-5203e602f7fe",
   "metadata": {
    "tags": []
   },
   "outputs": [
    {
     "name": "stdout",
     "output_type": "stream",
     "text": [
      "1\n",
      "2\n",
      "3\n",
      "4\n",
      "5\n"
     ]
    }
   ],
   "source": [
    "#q1\n",
    "counter=1\n",
    "while counter<=5:\n",
    "    print(counter)\n",
    "    counter=counter + 1 "
   ]
  },
  {
   "cell_type": "code",
   "execution_count": 2,
   "id": "932cc3ee-75cd-46e0-8417-a4b3d4f7073c",
   "metadata": {},
   "outputs": [
    {
     "name": "stdout",
     "output_type": "stream",
     "text": [
      "the sum of number from 1 to10 is:  55\n"
     ]
    }
   ],
   "source": [
    "counter = 1\n",
    "sum_result= 0\n",
    "while counter<=10:\n",
    "    sum_result=sum_result + counter\n",
    "    counter=counter +1\n",
    "print('the sum of number from 1 to10 is: ',sum_result)"
   ]
  },
  {
   "cell_type": "code",
   "execution_count": 3,
   "id": "654f2117-c857-4735-acc8-7bfc5edb907c",
   "metadata": {},
   "outputs": [
    {
     "name": "stdout",
     "output_type": "stream",
     "text": [
      " the number of vowel in the string: 0\n",
      " the number of vowel in the string: 0\n",
      " the number of vowel in the string: 1\n",
      " the number of vowel in the string: 1\n",
      " the number of vowel in the string: 1\n",
      " the number of vowel in the string: 2\n",
      " the number of vowel in the string: 2\n",
      " the number of vowel in the string: 3\n",
      " the number of vowel in the string: 3\n",
      " the number of vowel in the string: 4\n",
      " the number of vowel in the string: 4\n",
      " the number of vowel in the string: 4\n",
      " the number of vowel in the string: 4\n",
      " the number of vowel in the string: 4\n",
      " the number of vowel in the string: 5\n",
      " the number of vowel in the string: 5\n",
      " the number of vowel in the string: 6\n",
      " the number of vowel in the string: 6\n"
     ]
    }
   ],
   "source": [
    "input_string =\"the name is shagun\"\n",
    "input_string= input_string.lower()\n",
    "vowel_count =0\n",
    "vowel=set(\"aeiou\")\n",
    "for i in input_string:\n",
    "    if i in vowel:\n",
    "        vowel_count =vowel_count +1\n",
    "    print(f\" the number of vowel in the string:\", (vowel_count))\n",
    "          "
   ]
  },
  {
   "cell_type": "code",
   "execution_count": 4,
   "id": "f9316a5b-1d4b-4ccd-b50a-8f5e0fd085d3",
   "metadata": {},
   "outputs": [
    {
     "name": "stdout",
     "output_type": "stream",
     "text": [
      "* \n",
      "* \n",
      "* \n",
      "* \n",
      "* \n",
      "* \n",
      "* \n",
      "* \n",
      "* \n",
      "* \n",
      "* \n",
      "* \n",
      "* \n",
      "* \n",
      "* \n"
     ]
    }
   ],
   "source": [
    "num_row =5\n",
    "for i in range(num_row):\n",
    "    for j in range (i+1):\n",
    "        print( \"*\",end=\" \")\n",
    "        print()"
   ]
  },
  {
   "cell_type": "code",
   "execution_count": 5,
   "id": "74a76122-8b55-4ab9-af29-28cb058b6c98",
   "metadata": {},
   "outputs": [
    {
     "name": "stdin",
     "output_type": "stream",
     "text": [
      "enter the number 5\n"
     ]
    },
    {
     "name": "stdout",
     "output_type": "stream",
     "text": [
      "5 * 1 = 5\n",
      "5 * 2 = 10\n",
      "5 * 3 = 15\n",
      "5 * 4 = 20\n",
      "5 * 5 = 25\n",
      "5 * 6 = 30\n",
      "5 * 7 = 35\n",
      "5 * 8 = 40\n",
      "5 * 9 = 45\n",
      "5 * 10 = 50\n"
     ]
    }
   ],
   "source": [
    "n= int(input('enter the number'))\n",
    "i=1\n",
    "while i<=10:\n",
    "    result=n*i\n",
    "    print(n,'*',i, '=',result)\n",
    "    i=i+1"
   ]
  }
 ],
 "metadata": {
  "kernelspec": {
   "display_name": "Python 3 (ipykernel)",
   "language": "python",
   "name": "python3"
  },
  "language_info": {
   "codemirror_mode": {
    "name": "ipython",
    "version": 3
   },
   "file_extension": ".py",
   "mimetype": "text/x-python",
   "name": "python",
   "nbconvert_exporter": "python",
   "pygments_lexer": "ipython3",
   "version": "3.10.8"
  }
 },
 "nbformat": 4,
 "nbformat_minor": 5
}
